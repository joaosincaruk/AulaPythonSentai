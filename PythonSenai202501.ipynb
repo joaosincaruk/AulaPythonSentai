{
  "nbformat": 4,
  "nbformat_minor": 0,
  "metadata": {
    "colab": {
      "provenance": [],
      "authorship_tag": "ABX9TyO4OVM/CEz8ZGknIRt7PVKp",
      "include_colab_link": true
    },
    "kernelspec": {
      "name": "python3",
      "display_name": "Python 3"
    },
    "language_info": {
      "name": "python"
    }
  },
  "cells": [
    {
      "cell_type": "markdown",
      "metadata": {
        "id": "view-in-github",
        "colab_type": "text"
      },
      "source": [
        "<a href=\"https://colab.research.google.com/github/joaosincaruk/AulaPythonSentai/blob/main/PythonSenai202501.ipynb\" target=\"_parent\"><img src=\"https://colab.research.google.com/assets/colab-badge.svg\" alt=\"Open In Colab\"/></a>"
      ]
    },
    {
      "cell_type": "markdown",
      "source": [
        "**Aula 2 - Operadores em Python - 15/02/25**\n",
        "\n",
        "- Operadores aritméticos\n",
        "- Operadores de comparação\n",
        "- Operadores de identidade\n",
        "- Operadores  de associação\n",
        "- Operadores lógicos\n",
        "- Estruturas Condicionais"
      ],
      "metadata": {
        "id": "jnHPFedwscBW"
      }
    },
    {
      "cell_type": "code",
      "source": [
        "#@title **Verificando tipos de variáveis**\n",
        "#------------------------------------------------------------------------------------------------------------------------------#\n",
        "\n",
        "nome = \"João\"\n",
        "idade = 27\n",
        "altura = 1.83\n",
        "aluno = True\n",
        "\n",
        "# Exibir o tipo da variável\n",
        "print(f'nome: {type(nome)}') # {} será inserção dentro da string - usado para inserir uma função, um codigo dentro da string\n",
        "\n",
        "print(f'nome {nome} - Tipo: {type(nome)}')\n",
        "print(f'idade {idade} - Tipo: {type(idade)}')\n",
        "print(f'altura {altura} - Tipo: {type(altura)}')\n",
        "print(f'aluno {aluno} - Tipo: {type(aluno)}')\n",
        "\n",
        "#------------------------------------------------------------------------------------------------------------------------------#"
      ],
      "metadata": {
        "id": "lCWxYju_xbQA",
        "cellView": "form"
      },
      "execution_count": null,
      "outputs": []
    },
    {
      "cell_type": "code",
      "execution_count": null,
      "metadata": {
        "id": "8c3YnIqBrPVW",
        "cellView": "form"
      },
      "outputs": [],
      "source": [
        "#@title **Operadores Aritméticos**\n",
        "#------------------------------------------------------------------------------------------------------------------------------#\n",
        "\n",
        "# = será usado para atribuição\n",
        "# python é : Alto nível, Tipagem forte dinâmica, implícita\n",
        "\n",
        "#------------------------------------------------------------------------------------------------------------------------------#\n",
        "\n",
        "valor1 = 10\n",
        "valor2 = 5\n",
        "\n",
        "# + = adição\n",
        "# - = subtração\n",
        "# * = multiplicação\n",
        "# / = divisão\n",
        "\n",
        "print(f'A soma do valor {valor1} mais o valor {valor2} é',valor1 + valor2)\n",
        "\n",
        "print(f'Soma: {valor1 + valor2}')\n",
        "print(f'Subtração: {valor1 - valor2}')\n",
        "print(f'Multiplicação: {valor1 * valor2}')\n",
        "print(f'Divisão: {valor1 / valor2}')\n",
        "\n",
        "#------------------------------------------------------------------------------------------------------------------------------#\n",
        "\n",
        "# Outros operadores\n",
        "# // é para valor inteiro da divisao\n",
        "# % é para resto da divisão, ou modulo\n",
        "# ** é para potenciação\n",
        "\n",
        "valor_inteiro = 19 // 3\n",
        "print (f'o valor inteiro da divisão é {valor_inteiro}')\n",
        "\n",
        "modulo = 19 % 3\n",
        "print(f'o modulo da divisão é {modulo}')\n",
        "\n",
        "potenciação = 19 ** 3\n",
        "print(f'o valor da potenciação é {potenciação}')\n",
        "\n",
        "#------------------------------------------------------------------------------------------------------------------------------#"
      ]
    },
    {
      "cell_type": "code",
      "source": [
        "#@title **Operadores de comparação**\n",
        "#------------------------------------------------------------------------------------------------------------------------------#\n",
        "\n",
        "'''\n",
        "--------------------------------------------------------------------------------\n",
        "== : igualdade\n",
        "!= : diferente\n",
        "> : maior que\n",
        "< : menor que\n",
        ">= : maior ou igual a\n",
        "<=: menor ou igual a\n",
        "--------------------------------------------------------------------------------\n",
        "'''\n",
        "\n",
        "# Resultado sempre será um booleano\n",
        "print(10 == 5)\n",
        "print(10 != 5)\n",
        "print(\"\")\n",
        "\n",
        "#Igual a\n",
        "print(f'10 é igual a 5? {10 == 5}')\n",
        "print(f'10 é diferente de 5? {10 == 10}\\n')\n",
        "\n",
        "#Diferente de\n",
        "print(f'10 é diferente de 5? {10 != 5}')\n",
        "print(f'10 é diferente de 10? {10 != 10}\\n')\n",
        "\n",
        "# Maior que\n",
        "print(f'10 é maior que 5? {10 > 5}')\n",
        "print(f'10 é maior que 10? {10 > 10}\\n')\n",
        "\n",
        "#Menor que\n",
        "print(f'10 é menor que 5? {10 < 5}')\n",
        "print(f'10 é menor que 10? {10 < 10}\\n')\n",
        "\n",
        "#------------------------------------------------------------------------------------------------------------------------------#"
      ],
      "metadata": {
        "id": "QJVNfdW867aQ",
        "cellView": "form"
      },
      "execution_count": null,
      "outputs": []
    },
    {
      "cell_type": "markdown",
      "source": [],
      "metadata": {
        "id": "QBHjvpHN2i_i"
      }
    },
    {
      "cell_type": "code",
      "source": [
        "#@title **Operadores de identidade**\n",
        "\n",
        "#------------------------------------------------------------------------------------------------------------------------------#\n",
        "\n",
        "# is : é igual a\n",
        "#is not : não é igual a\n",
        "\n",
        "valor = int(input(\"Digite um valor: \")) #convertendo dado recebido em int\n",
        "print(f\"O valor digitado é igual a 10? {valor is 10} \")\n",
        "print(f'O valor digitado é diferente de 10? {valor is not 10}')\n",
        "\n",
        "#ele vai sempre sugerir o uso do == #\n",
        "# is -> ==\n",
        "# is not -> !=\n",
        "\n",
        "#------------------------------------------------------------------------------------------------------------------------------#"
      ],
      "metadata": {
        "id": "r0sfZbpn__kD",
        "cellView": "form"
      },
      "execution_count": null,
      "outputs": []
    },
    {
      "cell_type": "markdown",
      "source": [],
      "metadata": {
        "id": "91Ldvpt6AfZK"
      }
    },
    {
      "cell_type": "code",
      "source": [
        "#@title **Operadores de Associação**\n",
        "#------------------------------------------------------------------------------------------------------------------------------#\n",
        "\n",
        "# in : Está contido em\n",
        "# not in: não está contido em\n",
        "\n",
        "lista = [1, 2, 3, \"Senai\", \"python\", 0.3, 1.5]\n",
        "print(f'3 Está em lista? {3 in lista}')\n",
        "print(f\"python não está na lista? {'python' not in lista}\") #nao usar mesmas aspas da f string na variavel dentro da chave\n",
        "\n",
        "#------------------------------------------------------------------------------------------------------------------------------#"
      ],
      "metadata": {
        "id": "bK1l4BOBKDz6",
        "cellView": "form"
      },
      "execution_count": null,
      "outputs": []
    },
    {
      "cell_type": "code",
      "source": [
        "#@title **Operadores Lógicos**\n",
        "#------------------------------------------------------------------------------------------------------------------------------#\n",
        "\n",
        "# and = e\n",
        "# or = ou\n",
        "# not = não\n",
        "\n",
        "lista = [1, 2, 3, \"Senai\", \"python\", 0.3, 1.5]\n",
        "\n",
        "# 1 - verificar usando operador logico se \"Senai\" e \"python\" estão na lista\n",
        "\n",
        "print(f'Senai e Python estão na lista? {\"Senai\" in lista and \"python\" in lista}')\n",
        "\n",
        "# 2 - verificar se \"Registro\" ou 1.5 estão na lista\n",
        "print(f'Registro ou 1.5 estão na lista? {\"Registro\" in lista or 1.5 in lista}')\n",
        "\n",
        "# 3 - verificar se 10 e 20 não estão na lista\n",
        "print(f'10 e 20 não estão na lista? {10 not in lista and 20 not in lista}')\n",
        "\n",
        "\n",
        "#Outra forma de fazer é definir a condição in em uma variável:\n",
        "condição1 = \"Senai\" in lista\n",
        "condição2 = \"python\" in lista\n",
        "\n",
        "print(f'Senai e Python estão na lista? {condição1 and condição2}')\n",
        "\n",
        "#------------------------------------------------------------------------------------------------------------------------------#"
      ],
      "metadata": {
        "id": "Ak9-077ILe6u",
        "cellView": "form"
      },
      "execution_count": null,
      "outputs": []
    },
    {
      "cell_type": "code",
      "source": [
        "#@title **Estruturas Condicionais**\n",
        "#------------------------------------------------------------------------------------------------------------------------------#\n",
        "\n",
        "# temperatura\n",
        "# quente > 26\n",
        "# frio < 18\n",
        "# agradável >= 18 e <= 26\n",
        "\n",
        "#definir temperatura de entrada\n",
        "temperatura = float(input(\"Digite a temperatura: \"))\n",
        "\n",
        "if temperatura > 40: # verificar se o dia está quente\n",
        "  print(\"Registro é quente pra caralho!!!\")\n",
        "elif temperatura > 26: # verificar se o dia está quente\n",
        "  print(\"Tá quente!!!\")\n",
        "elif temperatura < 18: # se não estiver quente, verificar se está frio\n",
        "  print(\"Tá frio!!!!\")\n",
        "else: # se não for nenhuma das condições acima, estará agradável\n",
        "  print(\"Ta bão assim\")\n",
        "\n",
        "#------------------------------------------------------------------------------------------------------------------------------#"
      ],
      "metadata": {
        "colab": {
          "base_uri": "https://localhost:8080/"
        },
        "id": "IzogElLNXYtK",
        "outputId": "f5d4524d-65ef-4723-b3f6-d9569330c833"
      },
      "execution_count": null,
      "outputs": [
        {
          "output_type": "stream",
          "name": "stdout",
          "text": [
            "Digite a temperatura: 45\n",
            "Registro é quente pra caralho!!!\n"
          ]
        }
      ]
    }
  ]
}